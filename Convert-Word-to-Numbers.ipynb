{
 "cells": [
  {
   "cell_type": "code",
   "execution_count": 1,
   "metadata": {},
   "outputs": [],
   "source": [
    "import re\n",
    "with open('1.txt') as file:\n",
    "    file_data = file.readlines() #Type List\n",
    "    file_data_in_string = \"\". join(file_data)  # Save All Data in String\n",
    "    single_word = re.split(' |\\n',file_data_in_string)   # Convert Data in single word like twenty two as 'twenty','two'\n",
    "    unique_words = set(single_word) # Extract only unique words to define all possible cases for convert word to number\n",
    "\n",
    "#print(unique_words)"
   ]
  },
  {
   "cell_type": "code",
   "execution_count": 2,
   "metadata": {},
   "outputs": [],
   "source": [
    "# Making a dictionary of all possible cases including exceptions to convert words into numbers\n",
    "\n",
    "words_to_replace = {'ninety':90, 'five':5, 'fourty':40, \n",
    "                    'eighty':80, 'hundred':100, 'nine':9, \n",
    "                    'eighteen':18, 'seventy':70, 'two':2, \n",
    "                    'sixteen':16, 'six':6, 'tweleve':12, \n",
    "                    'fifty':50, 'one':1, 'nineteen':19, \n",
    "                    'ten':10, 'eleven':11, 'seven':7, \n",
    "                    'thirty':30, 'twenty':20, 'sixty':60, \n",
    "                    'fourteen':14, 'fifteen':15, 'four':4, \n",
    "                    'eight':8, 'thirteen':13, 'seventeen':17, \n",
    "                    'three':3, '':0}"
   ]
  },
  {
   "cell_type": "code",
   "execution_count": 3,
   "metadata": {},
   "outputs": [],
   "source": [
    "# Creating the sublists of each word in the main list so the numbers could not merge when it is use for conversion into digits \n",
    "\n",
    "list_word_pairing = []\n",
    "file_used = re.split('\\n',file_data_in_string)\n",
    "for line in file_used:\n",
    "    list_word_pairing.append(line.split(\" \"))\n",
    "\n",
    "#print(list_word_pairing)"
   ]
  },
  {
   "cell_type": "code",
   "execution_count": 4,
   "metadata": {},
   "outputs": [],
   "source": [
    "# Convert the Numbers into their respective digits\n",
    "\n",
    "for line in list_word_pairing:\n",
    "    for i,l in enumerate(line):\n",
    "        for key,value in words_to_replace.items():    \n",
    "            if l == key:\n",
    "                line[i] = value\n",
    "#print(list_word_pairing)"
   ]
  },
  {
   "cell_type": "code",
   "execution_count": 5,
   "metadata": {},
   "outputs": [],
   "source": [
    "# Now adding the values of sublists integers\n",
    "\n",
    "for sublist in list_word_pairing:\n",
    "    if len(sublist) > 1:            # Apply the condition that if the length of sublist is >1 then add the index 0 and 1 values\n",
    "        sublist[0] = sublist[0] + sublist[1]  \n",
    "        sublist.remove(sublist[1])  # Removing the second index of sublist after adding the values\n",
    "#print(list_word_pairing)"
   ]
  },
  {
   "cell_type": "code",
   "execution_count": 6,
   "metadata": {},
   "outputs": [],
   "source": [
    "#Convert all the list into single list\n",
    "\n",
    "final_list_in_numbers = []\n",
    "for integers in list_word_pairing:\n",
    "    final_list_in_numbers.extend(integers)\n",
    "    \n",
    "#print(final_list_in_numbers)\n",
    "   "
   ]
  },
  {
   "cell_type": "code",
   "execution_count": 7,
   "metadata": {},
   "outputs": [
    {
     "name": "stdout",
     "output_type": "stream",
     "text": [
      "Sum of selected file data =  5059243\n"
     ]
    }
   ],
   "source": [
    "# Sum of all file data\n",
    "\n",
    "print(\"Sum of selected file data = \", sum(final_list_in_numbers)) "
   ]
  }
 ],
 "metadata": {
  "kernelspec": {
   "display_name": "Python 3",
   "language": "python",
   "name": "python3"
  },
  "language_info": {
   "codemirror_mode": {
    "name": "ipython",
    "version": 3
   },
   "file_extension": ".py",
   "mimetype": "text/x-python",
   "name": "python",
   "nbconvert_exporter": "python",
   "pygments_lexer": "ipython3",
   "version": "3.8.3"
  }
 },
 "nbformat": 4,
 "nbformat_minor": 4
}
